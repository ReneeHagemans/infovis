{
 "cells": [
  {
   "attachments": {},
   "cell_type": "markdown",
   "metadata": {},
   "source": [
    "# Boeren en de klimaat krisis\n",
    "\n",
    "Door: Eline, Simon en Renée <br>\n",
    "\n",
    "\n",
    "In Nederland is er grote discussie rondom het behalen van de klimaatdoelen. Dit bleek ook weer een grote topic te zijn bij de afgelopen tweede kamer verkiezingen. Een hoofdpunt van de debatten en discussies; moet de veestapel en dus het aantal boeren in Nederland verminderen? Zo schoot de Boer Burger Beweging omhoog in de peilingen, met belang voor boerderij behoud op één. Anderzijds stegen groene partijen die de boeren verminderd willen zien. <br>\n",
    "\n",
    "De kwestie houdt het land in tweestrijd. Maar als we de boerderijen en veestapel verminderen, helpt dat dan überhaupt genoeg voor de klimaatdoelen? Nederland is daarnaast een van de grootste agrarische exportlanden ter wereld. Als deze landen zelf deze producten moeten produceren blijft de netto uitstoot wel hetzelfde? Of is het beter dat de productie in Nederland blijft?"
   ]
  },
  {
   "attachments": {},
   "cell_type": "markdown",
   "metadata": {},
   "source": [
    "### Wat is de invloed van de vermindering van de veestapel?\n",
    "\n",
    "In Nederland wordt een groot deel van de uitstoot veroorzaakt door de argrarische sector. / In nederland wordt een deel van de uitstoot veroorzaakt door de argrarische sector, dit omvat zowel veehouderijen als kassen (?). De sector stoot verschillende broeikasgassen uit, en over de jaren heen is dit alleen maar meer geworden."
   ]
  },
  {
   "cell_type": "code",
   "execution_count": null,
   "metadata": {},
   "outputs": [],
   "source": [
    "#bar plot ofzo van uitstootfactoren in NL\n",
    "#grafiek met uitstoot levels van broeikasgassen door de jaren heen"
   ]
  },
  {
   "attachments": {},
   "cell_type": "markdown",
   "metadata": {},
   "source": [
    "Nog een stuk over het eerste persp "
   ]
  },
  {
   "cell_type": "code",
   "execution_count": null,
   "metadata": {},
   "outputs": [],
   "source": [
    "#tweede/derde grafiek "
   ]
  },
  {
   "attachments": {},
   "cell_type": "markdown",
   "metadata": {},
   "source": [
    "Eerste persp als er minder vee is dan zoveel minder uitstoot"
   ]
  },
  {
   "cell_type": "code",
   "execution_count": null,
   "metadata": {},
   "outputs": [],
   "source": [
    "#grafiek/visualisatie van vermindering"
   ]
  },
  {
   "attachments": {},
   "cell_type": "markdown",
   "metadata": {},
   "source": [
    "conclusie met betrekking tot klimaatdoel en hoe dicht in de buurt we komen van het behalen als veestapel verminder/als het bijna geen impact heeft dan zoiets als toch boeren behoudt."
   ]
  },
  {
   "attachments": {},
   "cell_type": "markdown",
   "metadata": {},
   "source": [
    "###  Wat is de netto invloed op aarde als de veestapel verminderd wordt in Nederland?\n",
    "\n",
    "Zoals eerder gezegd is Nederland een grote exporteur van argrarische producten, van bloembollen tot varkens. Daarnaast zijn Nederlandse boerderijen erg geavanceerd en worden er in veel boerderijen gassen afgevangen. Als de veestapel in Nederland halveerd betekend dit dat de landen waar naartoe geexporteerd wordt of zelf of bij andere landen hun producten moeten halen. Nu is de vraag of dit netto beter is voor de aarde dan het in Nederland houden? Stoten boerderijen in het buitenland net zo veel, meer of minder af?"
   ]
  },
  {
   "cell_type": "code",
   "execution_count": null,
   "metadata": {},
   "outputs": [],
   "source": [
    "#grafiek export landen"
   ]
  },
  {
   "cell_type": "code",
   "execution_count": null,
   "metadata": {},
   "outputs": [],
   "source": [
    "#gemiddelde uitstoot koe/varken in nederland "
   ]
  },
  {
   "cell_type": "code",
   "execution_count": null,
   "metadata": {},
   "outputs": [],
   "source": [
    "#gemiddelde uitstoot koe/varken (top 3) export land(en)"
   ]
  },
  {
   "cell_type": "code",
   "execution_count": null,
   "metadata": {},
   "outputs": [],
   "source": [
    "#kruis grafiek van de twee bovenste grafieken op bepaalde broeikasgas"
   ]
  },
  {
   "attachments": {},
   "cell_type": "markdown",
   "metadata": {},
   "source": [
    "Misschien moet in acht genomen worden dat als het vlees/zuivel niet geexporteerd wordt er dus ook minder uitstoot is van transport?"
   ]
  },
  {
   "cell_type": "code",
   "execution_count": null,
   "metadata": {},
   "outputs": [],
   "source": [
    "#grafiek transport uitstoot?"
   ]
  },
  {
   "attachments": {},
   "cell_type": "markdown",
   "metadata": {},
   "source": [
    "Conclusie: Kan beter verbouwd worden in Nederland of technologie kan worden verscheept naar buitenland/In buitenland even hoog of verschil nihil dus het kan beter uit nederland zodat wij klimaatdoel halen/dubbel bubbel want als wij stoppen met produceren voor buitenland dan wordt het daar alsnog geproduceerd en uitgestoot dus netto maakt het niet uit en huilt de aarde. Mega oplossing iedereen vega ? / Speculatie dat doordat er geen import mogelijk is omdat nederland stopt, vlees duurder wordt in die landen en er daardoor minder vlees consumptie zal zijn wat uiteindelijk goed is voor milieu ?"
   ]
  }
 ],
 "metadata": {
  "language_info": {
   "name": "python"
  },
  "orig_nbformat": 4
 },
 "nbformat": 4,
 "nbformat_minor": 2
}
